{
  "metadata": {
    "kernelspec": {
      "name": "python",
      "display_name": "Python (Pyodide)",
      "language": "python"
    },
    "language_info": {
      "codemirror_mode": {
        "name": "python",
        "version": 3
      },
      "file_extension": ".py",
      "mimetype": "text/x-python",
      "name": "python",
      "nbconvert_exporter": "python",
      "pygments_lexer": "ipython3",
      "version": "3.8"
    }
  },
  "nbformat_minor": 4,
  "nbformat": 4,
  "cells": [
    {
      "cell_type": "markdown",
      "source": "# Implementasi Kecerdasan Buatan Menggunakan Python\n\nTutorial ini menunjukkan cara mengimplementasikan model pembelajaran mesin sederhana menggunakan pustaka scikit-learn di Python. Kami akan membuat model regresi linier untuk memprediksi harga rumah berdasarkan dataset sederhana.\n\n## Langkah 1: Mengimpor Pustaka yang Dibutuhkan\n\n## Langkah 2: Mengevaluasi Model\n\nSetelah melatih model, langkah berikutnya adalah mengevaluasi kinerja model dengan membandingkan hasil prediksi dengan nilai sebenarnya.\n\n## Kesimpulan\n\nDalam tutorial ini, kita telah mempelajari cara membuat model regresi linier sederhana menggunakan scikit-learn untuk memprediksi harga rumah. Anda dapat mengembangkan lebih lanjut model ini dengan mencoba dataset lain atau menggunakan teknik pembelajaran mesin yang lebih kompleks.\n",
      "metadata": {}
    },
    {
      "cell_type": "code",
      "source": "import numpy as np\nimport matplotlib.pyplot as plt\nfrom sklearn.linear_model import LinearRegression\nfrom sklearn.model_selection import train_test_split\nfrom sklearn.datasets import load_boston\n\n# Memuat dataset\nboston = load_boston()\nX = boston.data\ny = boston.target\n\n# Membagi data menjadi set pelatihan dan pengujian\nX_train, X_test, y_train, y_test = train_test_split(X, y, test_size=0.2, random_state=42)\n\n# Membuat model regresi linier\nmodel = LinearRegression()\n\n# Melatih model\nmodel.fit(X_train, y_train)\n\n# Memprediksi harga rumah\ny_pred = model.predict(X_test)\n\n# Mencetak hasil prediksi\nprint(f\"Prediksi: {y_pred}\")\nprint(f\"Asli: {y_test}\")\n\n# Mengevaluasi kinerja model\nfrom sklearn.metrics import mean_squared_error\n\nmse = mean_squared_error(y_test, y_pred)\nprint(f\"Mean Squared Error: {mse}\")\n",
      "metadata": {
        "trusted": true
      },
      "outputs": [],
      "execution_count": null
    }
  ]
}